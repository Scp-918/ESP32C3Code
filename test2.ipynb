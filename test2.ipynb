{
 "cells": [
  {
   "cell_type": "markdown",
   "id": "766e018a",
   "metadata": {},
   "source": [
    "# 串口数据帧解析与校验\n",
    "本代码用于解析形如“AA BB ... CC DD”的串口数据，每帧10字节，校验并显示每帧的校验结果。"
   ]
  },
  {
   "cell_type": "code",
   "execution_count": 2,
   "id": "42ae1492",
   "metadata": {},
   "outputs": [
    {
     "name": "stdout",
     "output_type": "stream",
     "text": [
      "帧1: ['AA', 'BB', '00', '00', '14', 'C7', 'FF', '00', 'CC', 'DD']\n",
      "  校验错误，计算值: 2C，帧内值: 00\n",
      "\n",
      "帧2: ['AA', 'BB', '00', '00', '17', '3F', 'FF', '00', 'CC', 'DD']\n",
      "  校验错误，计算值: D7，帧内值: 00\n",
      "\n",
      "帧3: ['AA', 'BB', '00', '00', '17', '00', 'FF', '00', 'CC', 'DD']\n",
      "  校验错误，计算值: E8，帧内值: 00\n",
      "\n",
      "帧4: ['AA', 'BB', '00', '00', '17', '13', 'FF', '00', 'CC', 'DD']\n",
      "  校验错误，计算值: FB，帧内值: 00\n",
      "\n",
      "帧5: ['AA', 'BB', '00', '00', '17', '3F', '1F', '00', 'CC', 'DD']\n",
      "  校验错误，计算值: 37，帧内值: 00\n",
      "\n"
     ]
    }
   ],
   "source": [
    "# 输入串口数据（十六进制字符串，空格分隔）\n",
    "data_str = \"AA BB 00 00 14 C7 FF 00 CC DD AA BB 00 00 17 3F FF 00 CC DD AA BB 00 00 17 00 FF 00 CC DD AA BB 00 00 17 13 FF 00 CC DD AA BB 00 00 17 3F 1F 00 CC DD \"\n",
    "\n",
    "# 转换为字节列表\n",
    "data_bytes = [int(x, 16) for x in data_str.strip().split()]\n",
    "\n",
    "FRAME_LEN = 10\n",
    "HEAD = [0xAA, 0xBB]\n",
    "TAIL = [0xCC, 0xDD]\n",
    "\n",
    "def parse_frames(data_bytes):\n",
    "    frames = []\n",
    "    i = 0\n",
    "    while i <= len(data_bytes) - FRAME_LEN:\n",
    "        if data_bytes[i:i+2] == HEAD and data_bytes[i+8:i+10] == TAIL:\n",
    "            frame = data_bytes[i:i+FRAME_LEN]\n",
    "            frames.append(frame)\n",
    "            i += FRAME_LEN\n",
    "        else:\n",
    "            i += 1\n",
    "    return frames\n",
    "\n",
    "def check_frame(frame):\n",
    "    # 第3-7字节（索引2-6）异或校验，结果应等于第9字节（索引8）\n",
    "    xor_val = 0\n",
    "    for b in frame[2:7]:\n",
    "        xor_val ^= b\n",
    "    return xor_val == frame[7], xor_val, frame[7]\n",
    "\n",
    "frames = parse_frames(data_bytes)\n",
    "\n",
    "for idx, frame in enumerate(frames):\n",
    "    ok, calc_xor, frame_xor = check_frame(frame)\n",
    "    print(f\"帧{idx+1}: {['%02X'%b for b in frame]}\")\n",
    "    print(f\"  校验{'正确' if ok else '错误'}，计算值: {calc_xor:02X}，帧内值: {frame_xor:02X}\\n\")"
   ]
  }
 ],
 "metadata": {
  "kernelspec": {
   "display_name": "pyqt",
   "language": "python",
   "name": "python3"
  },
  "language_info": {
   "codemirror_mode": {
    "name": "ipython",
    "version": 3
   },
   "file_extension": ".py",
   "mimetype": "text/x-python",
   "name": "python",
   "nbconvert_exporter": "python",
   "pygments_lexer": "ipython3",
   "version": "3.10.14"
  }
 },
 "nbformat": 4,
 "nbformat_minor": 5
}
